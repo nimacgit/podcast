{
 "cells": [
  {
   "cell_type": "code",
   "execution_count": 1,
   "id": "09974db4-55df-4169-a34d-a0af7ba51c35",
   "metadata": {
    "tags": []
   },
   "outputs": [],
   "source": [
    "import json\n",
    "import xml.dom.minidom\n",
    "import tempfile\n",
    "import requests\n",
    "\n",
    "def make_item(item_title, item_description, item_image_url, item_url, item_length, item_duration, item_guid, item_pub_date, item_author, item_season):\n",
    "    item = f'''\n",
    "<item>\n",
    "    <title>{item_title}</title>\n",
    "    <description> <![CDATA[{item_description}]]></description>\n",
    "    <content:encoded><![CDATA[{item_description}]]></content:encoded>\n",
    "    <itunes:summary><![CDATA[{item_description}]]></itunes:summary>\n",
    "    <itunes:image href=\"{item_image_url}\"/>\n",
    "    <enclosure url=\"{item_url}\"  type=\"audio/mp3\" length=\"{item_length}\"/>\n",
    "    <itunes:duration>{item_duration}</itunes:duration>\n",
    "    <guid>{item_guid}</guid>\n",
    "    <pubDate>{item_pub_date}</pubDate>\n",
    "    <author>{item_author}</author>\n",
    "    <author_picture></author_picture>\n",
    "    <itunes:explicit>no</itunes:explicit>\n",
    "    <itunes:season>{item_season}</itunes:season>\n",
    "</item>\n",
    "    '''\n",
    "    return item\n",
    "\n",
    "def make_rss(podcast_rss, podcast_title, podcast_description, author, owner, owner_email, category_text, image_url, items):\n",
    "    items_string = \"\\n\".join(items)\n",
    "    rss_string = f'''<?xml version=\"1.0\" encoding=\"UTF-8\"?>\n",
    "    <rss xmlns:itunes=\"http://www.itunes.com/dtds/podcast-1.0.dtd\" xmlns:atom=\"http://www.w3.org/2005/Atom\" xmlns:podcast=\"https://podcastindex.org/namespace/1.0\" xmlns:content=\"http://purl.org/rss/1.0/modules/content/\" version=\"2.0\">\n",
    "    <channel>\n",
    "        <atom:link href=\"{podcast_rss}\" type=\"application/rss+xml\" rel=\"self\"/>\n",
    "        <copyright>&amp;copy; 2022</copyright>\n",
    "        <link> {podcast_rss} </link>\n",
    "        <language>fa</language>\n",
    "        <title> {podcast_title} </title>\n",
    "        <description><![CDATA[ {podcast_description} ]]></description>\n",
    "        <!--<castbox:uid>e2ba3a729ac74f92bb31fa632de06bef</castbox:uid>-->\n",
    "        <!--<castbox:pid>5113575</castbox:pid>-->\n",
    "        <itunes:summary><![CDATA[ {podcast_description} ]]></itunes:summary>\n",
    "        <itunes:subtitle></itunes:subtitle>\n",
    "        <itunes:author>{author}</itunes:author>\n",
    "        <itunes:owner>\n",
    "          <itunes:name>{owner}</itunes:name>\n",
    "          <itunes:email>{owner_email}</itunes:email>\n",
    "        </itunes:owner>\n",
    "        <itunes:category text=\"{category_text}\"/>\n",
    "        <itunes:image href=\"{image_url}\"/>\n",
    "        <itunes:explicit>no</itunes:explicit>\n",
    "        {items_string}\n",
    "    </channel>\n",
    "</rss>\n",
    "'''\n",
    "    return rss_string\n",
    "    "
   ]
  },
  {
   "cell_type": "code",
   "execution_count": 4,
   "id": "75aefed2-8af2-43e2-a4be-25d2ee7764ae",
   "metadata": {},
   "outputs": [],
   "source": [
    "# items = []\n",
    "# items_json = []\n",
    "\n",
    "# podcast_title = \"آرشیو خوره کتاب - KhoreKetab archive\"\n",
    "# podcast_rss = \"https://github.com/nimacgit/podcast/blob/main/rss.xml\"\n",
    "# image_url = \"https://raw.githubusercontent.com/nimacgit/podcast/main/khoreketab/khoreketab.webp\"\n",
    "# author = \"KhoreKetab\"\n",
    "# owner = \"Nimac\"\n",
    "# owner_email = \"nimacpod@gmail.com\"\n",
    "# category_text = \"Religion &amp; Spirituality\"\n",
    "# podcast_description = '''\n",
    "# اپیزودهای آرشیو شده خوره کتاب\n",
    "# ما (شیما و هاتف) پادکست خوره کتاب رو می‌سازیم و اینجا می‌خوایم به نقل از کتاب‌ها براتون از \"آزادی\" بگیم.\n",
    "# KhoreKetab.com\n",
    "# ما اینجاها فعالیم: اینستاگرام - تلگرام - یوتیوب - وبسایت\n",
    "# '''\n",
    "\n",
    "# rss_json = {\n",
    "#     'podcast_rss': podcast_rss, 'podcast_title': podcast_title, 'podcast_description': podcast_description, 'author': author, 'owner': owner, 'owner_email': owner_email,\n",
    "#     'category_text': category_text, 'image_url': image_url, 'items': items_json\n",
    "# }\n",
    "# rss_string = make_rss(podcast_rss, podcast_title, podcast_description, author, owner, owner_email, category_text, image_url, items)\n",
    "\n",
    "# with open(\"khoreketab/khoreketab.json\", \"w\") as f:\n",
    "#     json.dump(rss_json, f)"
   ]
  },
  {
   "cell_type": "code",
   "execution_count": 70,
   "id": "684b3485-d75c-4444-8faa-4f113b0ff8f7",
   "metadata": {
    "tags": []
   },
   "outputs": [
    {
     "data": {
      "text/plain": [
       "<title>پادکست کتاب قانون 80 20 نوشته ریچارد کخ - پادکست خوره کتاب</title>"
      ]
     },
     "execution_count": 70,
     "metadata": {},
     "output_type": "execute_result"
    }
   ],
   "source": [
    "soup.find('title')"
   ]
  },
  {
   "cell_type": "code",
   "execution_count": 98,
   "id": "f24cbe15-f23c-49cb-bc94-f4d49a64c018",
   "metadata": {
    "tags": []
   },
   "outputs": [
    {
     "name": "stdout",
     "output_type": "stream",
     "text": [
      "item_title = \"کتاب طاعون نوشته آلبر کامو\"\n",
      "item_image_url = \"https://khoreketab.com/wp-content/uploads/2021/05/S3E13-mp3-image.jpg\"\n",
      "item_url = \"https://download.khoreketab.com/podcast/ye-fenjun-ketab/s3/ye-fenjun-ketab-s3-e13.mp3\"\n",
      "item_description = '''تو آخرین قسمت ویژه برنامه نوروز 1400، رمان ماندگار آلبر کامو یعنی طاعون رو انتخاب کردیم. کتابی که تو اوضاع و احوال کرونا تولدی دوباره رو داره تجربه میکنه.\n",
      "ما اینجاها فعالیم: اینستاگرام – تلگرام – یوتیوب – وبسایت\n",
      "حمایت مالی از خوره کتاب\n",
      "گوینده و نویسنده: شیماتدوینگر: هاتفموسیقی متن: ترک My Immortal از Evanescence'''\n"
     ]
    }
   ],
   "source": [
    "import requests\n",
    "from bs4 import BeautifulSoup\n",
    "# !pip install html5lib\n",
    "\n",
    "headers = {'User-Agent': 'Mozilla/5.0 (Macintosh; Intel Mac OS X 10_10_1) AppleWebKit/537.36 (KHTML, like Gecko) Chrome/39.0.2171.95 Safari/537.36'}\n",
    "\n",
    "episode_url = \"https://khoreketab.com/cup-of-book-podcast/the-plague/\"\n",
    "req = requests.get(episode_url, headers=headers)\n",
    "soup = BeautifulSoup(req.text, 'html5lib')\n",
    "\n",
    "title = soup.find('title')\n",
    "item_title = title.text.split(\" - \")[0].replace(\"پادکست \", \"\")\n",
    "\n",
    "image = soup.select(\"picture > img\")[1].attrs[\"data-src\"]\n",
    "item_image_url = image\n",
    "\n",
    "mp3_url = soup.find(\"video\", {\"class\": \"elementor-video\"}).attrs[\"src\"]\n",
    "item_url = mp3_url\n",
    "\n",
    "description = \"\"\n",
    "soup.find_all(\"div\", {\"class\": \"elementor-column-wrap elementor-element-populated\"})\n",
    "for p in soup.find_all(\"div\" , {\"class\": \"elementor-container elementor-column-gap-default\"})[2].find(\"div\", {\"class\": \"elementor-column-wrap elementor-element-populated\"}).find_all(\"div\", {\"class\": \"elementor-widget-container\"})[2].find_all(\"p\", {\"dir\": \"rtl\"})[1:]:\n",
    "    description += p.text + \"\\n\"\n",
    "description = description.strip()\n",
    "item_description = description\n",
    "\n",
    "print(f'item_title = \"{item_title}\"')\n",
    "print(f'item_image_url = \"{item_image_url}\"')\n",
    "print(f'item_url = \"{item_url}\"')\n",
    "print(f\"item_description = '''{item_description}'''\")"
   ]
  },
  {
   "cell_type": "code",
   "execution_count": 99,
   "id": "12b269c7-f055-42df-9176-cc98bec6c263",
   "metadata": {
    "tags": []
   },
   "outputs": [],
   "source": [
    "# item_title = \"کتاب جنایات و مکافات نوشته فئودور داستایوفسکی\"\n",
    "# item_image_url = \"https://khoreketab.com/wp-content/uploads/2020/12/S2E3_L-mp3-image.jpg\"\n",
    "# item_url = \"https://download.khoreketab.com/podcast/ye-fenjun-ketab/s2/ye-fenjun-ketab-s2-e3.mp3\"\n",
    "\n",
    "item_duration = \"00:09:10\"\n",
    "item_season = 3\n",
    "item_number = 29+0\n",
    "\n",
    "req = requests.head(item_url)\n",
    "item_length = req.headers[\"Content-Length\"]\n",
    "item_author = \"KhoreKetab\"\n",
    "item_guid = f\"album-7925db9a06764942aea04eececbf8682-ce4372a9f3bc410eab0a7946ca0000{item_number}\"\n",
    "item_pub_date = f\"Sat, 11 Mar 2023 06:{item_number}:00 +0000\"\n",
    "\n",
    "\n",
    "# item_description = '''\n",
    "# در این قسمت کتابی را انتخاب کردیم که از تست و محک زمان سربلند بیرون آمده است. کتاب آیین دوست یابی نوشته دیل کارنگی که اولین بار در سال 1936 منتشر شد.\n",
    "\n",
    "# ما اینجاها فعالیم: اینستاگرام – تلگرام – یوتیوب – وبسایت\n",
    "\n",
    "# حمایت مالی از خوره کتاب\n",
    "\n",
    "# گوینده و نویسنده: شیما\n",
    "# تدوینگر: هاتف\n",
    "# موسیقی متن: ترک Human از Rag’n’Bone Man\n",
    "# '''.strip()\n",
    "\n",
    "with open(\"khoreketab/khoreketab.json\", \"r\") as f:\n",
    "    rss_json = json.load(f)\n",
    "\n",
    "items = []\n",
    "items_json = rss_json[\"items\"]\n",
    "for item_json in items_json:\n",
    "    items.append(make_item(\n",
    "        item_json[\"item_title\"], item_json[\"item_description\"], item_json[\"item_image_url\"], item_json[\"item_url\"], item_json[\"item_length\"],\n",
    "        item_json[\"item_duration\"], item_json[\"item_guid\"], item_json[\"item_pub_date\"], item_json[\"item_author\"], item_json[\"item_season\"]\n",
    "    ))\n",
    "\n",
    "items_json.append({\n",
    "    'item_title': item_title, 'item_description': item_description, 'item_image_url': item_image_url, 'item_url': item_url, 'item_length': item_length,\n",
    "    'item_duration': item_duration, 'item_guid': item_guid, 'item_pub_date': item_pub_date, 'item_author': item_author, 'item_season': item_season\n",
    "})\n",
    "items.append(make_item(item_title, item_description, item_image_url, item_url, item_length, item_duration, item_guid, item_pub_date, item_author, item_season))\n",
    "\n",
    "rss_json[\"items\"] = items_json\n",
    "rss_string = make_rss(\n",
    "    rss_json[\"podcast_rss\"], rss_json[\"podcast_title\"], rss_json[\"podcast_description\"], rss_json[\"author\"], rss_json[\"owner\"], rss_json[\"owner_email\"],\n",
    "    rss_json[\"category_text\"], rss_json[\"image_url\"], items\n",
    ")\n",
    "\n",
    "with open(\"khoreketab/khoreketab.json\", \"w\") as f:\n",
    "    json.dump(rss_json, f)\n",
    "fp = tempfile.TemporaryFile()\n",
    "fp.write(rss_string.encode())\n",
    "fp.seek(0)\n",
    "dom = xml.dom.minidom.parse(fp)\n",
    "pretty_xml_as_string = dom.toprettyxml().replace(\"\\n\\t\", \"\\n\").replace(\"\\t\\n\", \"\\n\").replace(\"\\n\\n\", \"\\n\")\n",
    "with open(\"khoreketab/rss.xml\", \"w\") as f:\n",
    "    f.write(pretty_xml_as_string)"
   ]
  },
  {
   "cell_type": "code",
   "execution_count": 73,
   "id": "75254426-8f1e-4a9d-98c2-346bb2c3e732",
   "metadata": {
    "tags": []
   },
   "outputs": [],
   "source": []
  },
  {
   "cell_type": "code",
   "execution_count": null,
   "id": "f1bb2c05-52f2-45ee-a215-d5a9b2949c45",
   "metadata": {
    "tags": []
   },
   "outputs": [],
   "source": []
  },
  {
   "cell_type": "code",
   "execution_count": null,
   "id": "c2fb02b1-e50b-46ed-8117-6fa83fffa71c",
   "metadata": {
    "tags": []
   },
   "outputs": [],
   "source": []
  },
  {
   "cell_type": "code",
   "execution_count": null,
   "id": "05aeaf28-f32c-4275-954c-6d0762d517f8",
   "metadata": {
    "tags": []
   },
   "outputs": [],
   "source": []
  },
  {
   "cell_type": "code",
   "execution_count": null,
   "id": "fc14f2ae-8a22-4515-b6d3-15ef04e2a4f0",
   "metadata": {
    "tags": []
   },
   "outputs": [],
   "source": []
  },
  {
   "cell_type": "code",
   "execution_count": null,
   "id": "5675f229-1520-4412-99b6-23927072f449",
   "metadata": {},
   "outputs": [],
   "source": []
  }
 ],
 "metadata": {
  "kernelspec": {
   "display_name": "Python 3 (ipykernel)",
   "language": "python",
   "name": "python3"
  },
  "language_info": {
   "codemirror_mode": {
    "name": "ipython",
    "version": 3
   },
   "file_extension": ".py",
   "mimetype": "text/x-python",
   "name": "python",
   "nbconvert_exporter": "python",
   "pygments_lexer": "ipython3",
   "version": "3.9.16"
  }
 },
 "nbformat": 4,
 "nbformat_minor": 5
}
